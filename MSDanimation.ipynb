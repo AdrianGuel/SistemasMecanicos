{
  "nbformat": 4,
  "nbformat_minor": 0,
  "metadata": {
    "colab": {
      "name": "MSDanimation.ipynb",
      "provenance": [],
      "authorship_tag": "ABX9TyMyK6Xemfn89l7jwE/zV7mo",
      "include_colab_link": true
    },
    "kernelspec": {
      "name": "python3",
      "display_name": "Python 3"
    },
    "language_info": {
      "name": "python"
    }
  },
  "cells": [
    {
      "cell_type": "markdown",
      "metadata": {
        "id": "view-in-github",
        "colab_type": "text"
      },
      "source": [
        "<a href=\"https://colab.research.google.com/github/AdrianGuel/SistemasMecanicos/blob/main/MSDanimation.ipynb\" target=\"_parent\"><img src=\"https://colab.research.google.com/assets/colab-badge.svg\" alt=\"Open In Colab\"/></a>"
      ]
    },
    {
      "cell_type": "code",
      "execution_count": null,
      "metadata": {
        "colab": {
          "base_uri": "https://localhost:8080/",
          "height": 145
        },
        "id": "Jtf1_B-JDLLP",
        "outputId": "1ef1413c-e079-4a57-f45a-b0a5493ac091"
      },
      "outputs": [
        {
          "output_type": "display_data",
          "data": {
            "text/plain": [
              "<Figure size 360x288 with 1 Axes>"
            ],
            "image/png": "[encoded data removed]"
          },
          "metadata": {
            "needs_background": "light"
          }
        }
      ],
      "source": [
        "import numpy as np\n",
        "import matplotlib.pyplot as plt\n",
        "import scipy.integrate as integrate\n",
        "import matplotlib.animation as animation\n",
        "\n",
        "k=0.2\n",
        "m=1\n",
        "b=0.5\n",
        "t_stop = 30  # tiempo de simulación\n",
        "\n",
        "\n",
        "#Modelo dinámico\n",
        "def derivs(state, t):\n",
        "    dydx = np.zeros_like(state)\n",
        "    dydx[0] = state[1]\n",
        "    dydx[1] = -k*state[0]/m-b*state[1]/m\n",
        "    return dydx\n",
        "\n",
        "# tiempo\n",
        "dt = 0.05\n",
        "t = np.arange(0, t_stop, dt)\n",
        "\n",
        "#condiciones iniciales\n",
        "x10 = 0.5\n",
        "x20 = 0.5\n",
        "\n",
        "# estado inicial\n",
        "state = [x10, x20]\n",
        "\n",
        "# solución numérica\n",
        "y = integrate.odeint(derivs, state, t)\n",
        "\n",
        "x1 = y[:, 0]\n",
        "\n",
        "fig = plt.figure(figsize=(5, 4))\n",
        "ax = fig.add_subplot(111, autoscale_on=False, xlim=(0, 6), ylim=(-1, 1))\n",
        "ax.set_aspect('equal')\n",
        "ax.grid()\n",
        "\n",
        "line, = ax.plot([], [], 'o-', lw=2)\n",
        "time_template = 'tiempo = %.1fs'\n",
        "time_text = ax.text(0.05, 0.9, '', transform=ax.transAxes)\n",
        "\n",
        "\n",
        "def animate(i):\n",
        "    li=1\n",
        "    thisx = [x1[i]+li,0]\n",
        "    line.set_data(thisx,0)\n",
        "    time_text.set_text(time_template % (i*dt))\n",
        "    return line, time_text\n",
        "\n",
        "ani = animation.FuncAnimation(\n",
        "    fig, animate, len(y), interval=dt*1000, blit=True)\n",
        "plt.show()"
      ]
    }
  ]
}